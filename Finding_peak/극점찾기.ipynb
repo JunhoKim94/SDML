{
 "cells": [
  {
   "cell_type": "code",
   "execution_count": 2,
   "metadata": {},
   "outputs": [],
   "source": [
    "import numpy as np\n",
    "import pandas as pd\n",
    "import matplotlib.pyplot as plt\n",
    "import scipy.io"
   ]
  },
  {
   "cell_type": "code",
   "execution_count": 3,
   "metadata": {},
   "outputs": [],
   "source": [
    "%matplotlib qt5"
   ]
  },
  {
   "cell_type": "code",
   "execution_count": 4,
   "metadata": {},
   "outputs": [],
   "source": [
    "data = scipy.io.loadmat(\"DRdata.mat\")"
   ]
  },
  {
   "cell_type": "code",
   "execution_count": 5,
   "metadata": {},
   "outputs": [],
   "source": [
    "stack = data['DR_new']"
   ]
  },
  {
   "cell_type": "code",
   "execution_count": 15,
   "metadata": {},
   "outputs": [
    {
     "name": "stderr",
     "output_type": "stream",
     "text": [
      "C:\\Users\\junho\\Anaconda3\\lib\\site-packages\\ipykernel_launcher.py:41: ComplexWarning: Casting complex values to real discards the imaginary part\n",
      "C:\\Users\\junho\\Anaconda3\\lib\\site-packages\\ipykernel_launcher.py:42: ComplexWarning: Casting complex values to real discards the imaginary part\n",
      "C:\\Users\\junho\\Anaconda3\\lib\\site-packages\\ipykernel_launcher.py:43: ComplexWarning: Casting complex values to real discards the imaginary part\n",
      "C:\\Users\\junho\\Anaconda3\\lib\\site-packages\\ipykernel_launcher.py:44: ComplexWarning: Casting complex values to real discards the imaginary part\n"
     ]
    }
   ],
   "source": [
    "#################### 회귀분석 ###########################\n",
    "end_of_data = 1200\n",
    "start_of_data = 0\n",
    "r = np.zeros(shape=(end_of_data-start_of_data,4))\n",
    "ax = []\n",
    "fig = plt.figure()\n",
    "\n",
    "for num in np.arange(start_of_data,end_of_data):\n",
    "    a=[]\n",
    "    number = num - start_of_data\n",
    "    t = np.arange(0,17,1)\n",
    "    t2 = np.arange(0,15,0.01)\n",
    "    exp = np.polyfit(t,stack[num][0:17],10)\n",
    "    b = np.poly1d(exp)\n",
    "    b1 = b(t2)\n",
    "    #ax.append(fig.add_subplot(4,4,num+1-start_of_data))\n",
    "    #ax[number].plot(stack[num])\n",
    "    #ax[number].plot(t2,b1)\n",
    "    #b1 = b(t2)\n",
    "    #plt.plot(stack[num])\n",
    "    #plt.plot(t2,b1)\n",
    "\n",
    "    temp = np.array(b)\n",
    "    temp = list(temp)\n",
    "    \n",
    "    #다항식 미분\n",
    "    for i in range(len(temp)):\n",
    "        temp[i] = (len(temp)-1-i)*temp[i]\n",
    "        if i == (len(temp)-1):\n",
    "            del temp[i]\n",
    "            \n",
    "    # f'(x) 실근 추출\n",
    "    foot = np.roots(temp)\n",
    "    foot = foot[np.isreal(foot)]\n",
    "    foot.sort()\n",
    "    # 실근 중 원하는 범위 내에 있는 극점 추출\n",
    "    for root in foot:\n",
    "        if (root > 3) & (root< 17):\n",
    "            #print(round(root))\n",
    "            a.append(round(root))\n",
    "    r[number,0] = int(a[0])\n",
    "    r[number,1] = stack[num][int(a[0])]\n",
    "    r[number,2] = int(a[1])\n",
    "    r[number,3] = stack[num][int(a[1])]\n",
    "    #ax[number].scatter((r[number,0],r[number,2]),(r[number,1],r[number,3]),marker = 'o',color = 'r',s=7)\n",
    "\n",
    "########################################################"
   ]
  },
  {
   "cell_type": "code",
   "execution_count": 391,
   "metadata": {},
   "outputs": [
    {
     "name": "stdout",
     "output_type": "stream",
     "text": [
      "344 782\n"
     ]
    }
   ],
   "source": [
    "k = np.array(b1)\n",
    "dif =[]\n",
    "for i in range(len(k)-1):\n",
    "    dif.append(k[i+1]-k[i])\n",
    "for j in range(len(dif)-1):\n",
    "    if (dif[j] < 0) & (dif[j+1]>0):\n",
    "        a = j+1\n",
    "        break\n",
    "for k in range(len(dif)-1):\n",
    "    if (dif[k] >0) & (dif[k+1]<0):\n",
    "        b = k+1\n",
    "print(a,b)"
   ]
  },
  {
   "cell_type": "code",
   "execution_count": 230,
   "metadata": {},
   "outputs": [],
   "source": [
    "################### 극점찾기 ########################\n",
    "end_of_data = 300\n",
    "start_of_data = 0\n",
    "temp = np.zeros(shape=(end_of_data-start_of_data,4))\n",
    "\n",
    "for i in range(start_of_data,end_of_data):\n",
    "    cur = stack[i]\n",
    "    diff = []\n",
    "    \n",
    "    for j in range(len(cur)-1):\n",
    "        diff.append(cur[j+1]-cur[j])\n",
    "\n",
    "    #첫번째 극소점 --> 알파 극점\n",
    "    for q in range(len(diff)-1):\n",
    "        if (diff[q] < 0) & (diff[q+1]>0):\n",
    "            a = q+1\n",
    "            break\n",
    "            \n",
    "    #극대점들 중 주위에 차이가 큰 첫번째 극대점 --> 베타 극점 \n",
    "    for p in range(len(diff)-1):\n",
    "        if (diff[p] >0) & (diff[p+1]<0):\n",
    "            for s in range(3):\n",
    "                #print(abs(k[p+s]))\n",
    "                if abs(diff[p+s])>0.015:\n",
    "                    b = p+1\n",
    "            if b>0:\n",
    "                break\n",
    "                \n",
    "    temp[i,0] = a\n",
    "    temp[i,1] = cur[a]\n",
    "    temp[i,2] = b\n",
    "    temp[i,3] = cur[b]\n",
    "##################################################"
   ]
  },
  {
   "cell_type": "code",
   "execution_count": 70,
   "metadata": {},
   "outputs": [
    {
     "data": {
      "text/plain": [
       "<matplotlib.collections.PathCollection at 0x2909a2a8320>"
      ]
     },
     "execution_count": 70,
     "metadata": {},
     "output_type": "execute_result"
    }
   ],
   "source": [
    "x2 = r[:,2]*0.2/26\n",
    "y2 = r[:,3]\n",
    "plt.scatter(x2,y2)"
   ]
  },
  {
   "cell_type": "code",
   "execution_count": 12,
   "metadata": {},
   "outputs": [],
   "source": [
    "import pandas as pd"
   ]
  },
  {
   "cell_type": "code",
   "execution_count": 14,
   "metadata": {},
   "outputs": [],
   "source": [
    "np.savetxt(\"./until_1200.csv\",r,delimiter=\",\")"
   ]
  },
  {
   "cell_type": "code",
   "execution_count": null,
   "metadata": {},
   "outputs": [],
   "source": []
  }
 ],
 "metadata": {
  "kernelspec": {
   "display_name": "Python 3",
   "language": "python",
   "name": "python3"
  },
  "language_info": {
   "codemirror_mode": {
    "name": "ipython",
    "version": 3
   },
   "file_extension": ".py",
   "mimetype": "text/x-python",
   "name": "python",
   "nbconvert_exporter": "python",
   "pygments_lexer": "ipython3",
   "version": "3.6.4"
  }
 },
 "nbformat": 4,
 "nbformat_minor": 2
}
