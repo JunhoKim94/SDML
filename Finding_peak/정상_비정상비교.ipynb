{
 "cells": [
  {
   "cell_type": "code",
   "execution_count": 5,
   "metadata": {},
   "outputs": [],
   "source": [
    "import numpy as np\n",
    "import pandas as pd\n",
    "import matplotlib.pyplot as plt\n",
    "import scipy.io\n",
    "%matplotlib qt5\n",
    "data = scipy.io.loadmat(\"DRdata.mat\")\n",
    "stack = data['DR_new']"
   ]
  },
  {
   "cell_type": "code",
   "execution_count": 131,
   "metadata": {},
   "outputs": [
    {
     "name": "stderr",
     "output_type": "stream",
     "text": [
      "C:\\Users\\junho\\Anaconda3\\lib\\site-packages\\ipykernel_launcher.py:43: ComplexWarning: Casting complex values to real discards the imaginary part\n",
      "C:\\Users\\junho\\Anaconda3\\lib\\site-packages\\ipykernel_launcher.py:44: ComplexWarning: Casting complex values to real discards the imaginary part\n",
      "C:\\Users\\junho\\Anaconda3\\lib\\site-packages\\ipykernel_launcher.py:46: ComplexWarning: Casting complex values to real discards the imaginary part\n",
      "C:\\Users\\junho\\Anaconda3\\lib\\site-packages\\ipykernel_launcher.py:47: ComplexWarning: Casting complex values to real discards the imaginary part\n"
     ]
    }
   ],
   "source": [
    "#################### 회귀분석 ###########################\n",
    "end_of_data = 1800\n",
    "start_of_data = 1200\n",
    "r = np.zeros(shape=(end_of_data-start_of_data,4))\n",
    "ax = []\n",
    "#fig = plt.figure()\n",
    "\n",
    "for num in np.arange(start_of_data,end_of_data):\n",
    "        a=[]\n",
    "        if (stack[num][0] <3):\n",
    "            number = num - start_of_data\n",
    "            t = np.arange(0,26,1)\n",
    "            t2 = np.arange(0,15,0.01)\n",
    "            exp = np.polyfit(t,stack[num][0:26],14)\n",
    "            b = np.poly1d(exp)\n",
    "            b1 = b(t2)\n",
    "            #ax.append(fig.add_subplot(4,4,num+1-start_of_data))\n",
    "            #ax[number].plot(stack[num])\n",
    "            #ax[number].plot(t2,b1)\n",
    "            #b1 = b(t2)\n",
    "            #plt.plot(stack[num])\n",
    "            #plt.plot(t2,b1)\n",
    "\n",
    "            temp = np.array(b)\n",
    "            temp = list(temp)\n",
    "\n",
    "            #다항식 미분\n",
    "            for i in range(len(temp)):\n",
    "                temp[i] = (len(temp)-1-i)*temp[i]\n",
    "                if i == (len(temp)-1):\n",
    "                    del temp[i]\n",
    "\n",
    "            # f'(x) 실근 추출\n",
    "            foot = np.roots(temp)\n",
    "            foot = foot[np.isreal(foot)]\n",
    "            foot.sort()\n",
    "            # 실근 중 원하는 범위 내에 있는 극점 추출\n",
    "            for root in foot:\n",
    "                if (root > 3.5) & (root< 15):\n",
    "                    #print(round(root))\n",
    "                    a.append(round(root))\n",
    "            #print(num)\n",
    "            r[number,0] = int(a[0])\n",
    "            r[number,1] = stack[num][int(a[0])]\n",
    "            #print(number)\n",
    "            r[number,2] = int(a[1])\n",
    "            r[number,3] = stack[num][int(a[1])]\n",
    "            #ax[number].scatter((r[number,0],r[number,2]),(r[number,1],r[number,3]),marker = 'o',color = 'r',s=7)"
   ]
  },
  {
   "cell_type": "code",
   "execution_count": 117,
   "metadata": {},
   "outputs": [
    {
     "data": {
      "text/plain": [
       "<matplotlib.collections.PathCollection at 0x20a7cf8c5c0>"
      ]
     },
     "execution_count": 117,
     "metadata": {},
     "output_type": "execute_result"
    }
   ],
   "source": [
    "x1 = r[0:300,2]*0.2/26\n",
    "y1 = r[0:300,3]\n",
    "x2 = r[300:600,2]*0.2/26\n",
    "y2 = r[300:600,3]\n",
    "plt.scatter(x2,y2,color ='b')\n",
    "plt.scatter(x1,y1,color = 'r')"
   ]
  },
  {
   "cell_type": "code",
   "execution_count": 119,
   "metadata": {},
   "outputs": [],
   "source": [
    "a = []\n",
    "for i in range(len(x1)):\n",
    "    if x1[i] == 0:\n",
    "        a.append(i)"
   ]
  },
  {
   "cell_type": "code",
   "execution_count": 120,
   "metadata": {},
   "outputs": [
    {
     "data": {
      "text/plain": [
       "[113,\n",
       " 114,\n",
       " 116,\n",
       " 117,\n",
       " 119,\n",
       " 120,\n",
       " 121,\n",
       " 122,\n",
       " 124,\n",
       " 126,\n",
       " 127,\n",
       " 128,\n",
       " 129,\n",
       " 130,\n",
       " 132,\n",
       " 133,\n",
       " 136,\n",
       " 137,\n",
       " 139,\n",
       " 140,\n",
       " 141,\n",
       " 142,\n",
       " 143,\n",
       " 146,\n",
       " 147,\n",
       " 148,\n",
       " 149,\n",
       " 150,\n",
       " 152,\n",
       " 153,\n",
       " 154,\n",
       " 155,\n",
       " 157,\n",
       " 159,\n",
       " 160,\n",
       " 161,\n",
       " 162,\n",
       " 163,\n",
       " 165,\n",
       " 166,\n",
       " 169,\n",
       " 170,\n",
       " 172,\n",
       " 173,\n",
       " 175,\n",
       " 176,\n",
       " 179,\n",
       " 180,\n",
       " 182,\n",
       " 183,\n",
       " 185,\n",
       " 186,\n",
       " 188,\n",
       " 190,\n",
       " 192,\n",
       " 193,\n",
       " 194,\n",
       " 195,\n",
       " 196,\n",
       " 198,\n",
       " 199,\n",
       " 201,\n",
       " 202,\n",
       " 203,\n",
       " 205,\n",
       " 206,\n",
       " 208,\n",
       " 209,\n",
       " 212,\n",
       " 213,\n",
       " 215,\n",
       " 216,\n",
       " 218,\n",
       " 219,\n",
       " 221,\n",
       " 224,\n",
       " 278]"
      ]
     },
     "execution_count": 120,
     "metadata": {},
     "output_type": "execute_result"
    }
   ],
   "source": [
    "a"
   ]
  },
  {
   "cell_type": "code",
   "execution_count": 121,
   "metadata": {},
   "outputs": [
    {
     "data": {
      "text/plain": [
       "array([[ 7.        ,  0.22587127, 10.        ,  0.23086638],\n",
       "       [ 5.        ,  0.24724547,  8.        ,  0.25445031],\n",
       "       [ 7.        ,  0.22029974, 10.        ,  0.227277  ],\n",
       "       ...,\n",
       "       [ 0.        ,  0.        ,  0.        ,  0.        ],\n",
       "       [ 7.        ,  0.23123747, 10.        ,  0.23973329],\n",
       "       [ 0.        ,  0.        ,  0.        ,  0.        ]])"
      ]
     },
     "execution_count": 121,
     "metadata": {},
     "output_type": "execute_result"
    }
   ],
   "source": [
    "r"
   ]
  },
  {
   "cell_type": "code",
   "execution_count": 73,
   "metadata": {},
   "outputs": [],
   "source": [
    "np.savetxt(\"./until_1200.csv\",r,delimiter=\",\")"
   ]
  },
  {
   "cell_type": "code",
   "execution_count": 100,
   "metadata": {},
   "outputs": [
    {
     "data": {
      "text/plain": [
       "[<matplotlib.lines.Line2D at 0x20a7cfa2748>]"
      ]
     },
     "execution_count": 100,
     "metadata": {},
     "output_type": "execute_result"
    }
   ],
   "source": [
    "plt.plot(stack[1315])"
   ]
  },
  {
   "cell_type": "code",
   "execution_count": 136,
   "metadata": {},
   "outputs": [],
   "source": [
    "R = []\n",
    "for i in range(300):\n",
    "    if r[300+i][0] == 0:\n",
    "        pass\n",
    "    else:\n",
    "        R.append(r[i])"
   ]
  },
  {
   "cell_type": "code",
   "execution_count": 137,
   "metadata": {},
   "outputs": [
    {
     "data": {
      "text/plain": [
       "[array([ 7.        ,  0.22029974, 10.        ,  0.227277  ]),\n",
       " array([ 8.        ,  0.2182604 , 10.        ,  0.22101562]),\n",
       " array([8.        , 0.2243976 , 9.        , 0.22924982]),\n",
       " array([ 8.        ,  0.21856465, 10.        ,  0.22270966]),\n",
       " array([ 8.        ,  0.22574165, 10.        ,  0.22911945]),\n",
       " array([ 7.        ,  0.22216589, 10.        ,  0.22645743]),\n",
       " array([7.        , 0.21985716, 9.        , 0.22855719]),\n",
       " array([6.        , 0.22148821, 9.        , 0.23574399]),\n",
       " array([ 7.        ,  0.22354298, 10.        ,  0.22866679]),\n",
       " array([ 7.        ,  0.22004947, 10.        ,  0.22573565]),\n",
       " array([ 7.        ,  0.22306524, 10.        ,  0.22855981]),\n",
       " array([ 8.        ,  0.22458711, 10.        ,  0.22721962]),\n",
       " array([ 7.        ,  0.22021938, 10.        ,  0.22526392]),\n",
       " array([6.        , 0.2266212 , 9.        , 0.24087547]),\n",
       " array([8.        , 0.22381946, 9.        , 0.22860572]),\n",
       " array([ 7.        ,  0.21474057, 10.        ,  0.22455521]),\n",
       " array([ 7.        ,  0.21585918, 10.        ,  0.22228011]),\n",
       " array([7.        , 0.21696107, 9.        , 0.22459507]),\n",
       " array([ 7.        ,  0.21613415, 10.        ,  0.22507187]),\n",
       " array([6.        , 0.22398995, 9.        , 0.23240337]),\n",
       " array([5.        , 0.23752827, 8.        , 0.2415226 ]),\n",
       " array([5.        , 0.23749128, 8.        , 0.24460708]),\n",
       " array([5.        , 0.23597758, 7.        , 0.23972588]),\n",
       " array([5.        , 0.23668058, 7.        , 0.23787125]),\n",
       " array([5.        , 0.23432437, 8.        , 0.24458512]),\n",
       " array([ 7.        ,  0.21594437, 10.        ,  0.2230983 ]),\n",
       " array([5.        , 0.23723611, 8.        , 0.24218434]),\n",
       " array([5.        , 0.23483818, 8.        , 0.24109323]),\n",
       " array([5.        , 0.23726787, 8.        , 0.24255418]),\n",
       " array([6.        , 0.23670237, 8.        , 0.24363854]),\n",
       " array([6.        , 0.23457529, 8.        , 0.24099041]),\n",
       " array([6.        , 0.23643611, 9.        , 0.24350692]),\n",
       " array([6.        , 0.23043843, 9.        , 0.24217438]),\n",
       " array([6.        , 0.23581605, 9.        , 0.24595692]),\n",
       " array([6.        , 0.23379659, 9.        , 0.24587396]),\n",
       " array([6.        , 0.23237543, 9.        , 0.24642563]),\n",
       " array([6.        , 0.23010582, 9.        , 0.24158879]),\n",
       " array([6.        , 0.23289239, 8.        , 0.23805262]),\n",
       " array([6.        , 0.22895673, 8.        , 0.23631826]),\n",
       " array([6.        , 0.23440062, 8.        , 0.23813676]),\n",
       " array([6.        , 0.23148166, 8.        , 0.23591853]),\n",
       " array([6.        , 0.23727387, 9.        , 0.24257858]),\n",
       " array([6.        , 0.23188144, 9.        , 0.23871953]),\n",
       " array([6.        , 0.22947341, 8.        , 0.23320683]),\n",
       " array([6.        , 0.22971126, 9.        , 0.23942625]),\n",
       " array([ 6.        ,  0.23141049, 10.        ,  0.24020038]),\n",
       " array([6.        , 0.2341236 , 8.        , 0.23629035]),\n",
       " array([6.        , 0.21778641, 9.        , 0.23311379]),\n",
       " array([6.        , 0.23264638, 9.        , 0.24167514]),\n",
       " array([6.        , 0.22037249, 9.        , 0.24038904]),\n",
       " array([6.        , 0.22006915, 9.        , 0.23785758]),\n",
       " array([6.        , 0.21971457, 9.        , 0.23766607]),\n",
       " array([6.        , 0.21955681, 9.        , 0.23907271]),\n",
       " array([6.        , 0.22181574, 9.        , 0.23919037]),\n",
       " array([6.        , 0.21818554, 9.        , 0.23727844]),\n",
       " array([ 6.        ,  0.21656118, 10.        ,  0.2329702 ]),\n",
       " array([6.        , 0.21699203, 9.        , 0.2371557 ]),\n",
       " array([6.        , 0.21718221, 9.        , 0.2351317 ]),\n",
       " array([6.        , 0.22052069, 9.        , 0.23685984]),\n",
       " array([6.        , 0.21902917, 9.        , 0.23725061]),\n",
       " array([ 6.        ,  0.2138002 , 10.        ,  0.23483382]),\n",
       " array([6.        , 0.21242975, 9.        , 0.23527849]),\n",
       " array([5.        , 0.21782684, 9.        , 0.23555678]),\n",
       " array([0., 0., 0., 0.]),\n",
       " array([0., 0., 0., 0.]),\n",
       " array([4.        , 0.21268952, 8.        , 0.24714737]),\n",
       " array([ 6.        ,  0.21355819, 10.        ,  0.23825616]),\n",
       " array([0., 0., 0., 0.]),\n",
       " array([0., 0., 0., 0.]),\n",
       " array([0., 0., 0., 0.]),\n",
       " array([ 6.        ,  0.20929117, 10.        ,  0.24039936]),\n",
       " array([0., 0., 0., 0.]),\n",
       " array([0., 0., 0., 0.]),\n",
       " array([0., 0., 0., 0.]),\n",
       " array([0., 0., 0., 0.]),\n",
       " array([ 6.        ,  0.21075299, 10.        ,  0.23735868]),\n",
       " array([0., 0., 0., 0.]),\n",
       " array([0., 0., 0., 0.]),\n",
       " array([0., 0., 0., 0.]),\n",
       " array([ 6.        ,  0.20912412, 10.        ,  0.23624281]),\n",
       " array([0., 0., 0., 0.]),\n",
       " array([0., 0., 0., 0.]),\n",
       " array([ 6.        ,  0.20917363, 10.        ,  0.23381417]),\n",
       " array([ 6.        ,  0.21073167, 11.        ,  0.23101779]),\n",
       " array([0., 0., 0., 0.]),\n",
       " array([0., 0., 0., 0.]),\n",
       " array([0., 0., 0., 0.]),\n",
       " array([0., 0., 0., 0.]),\n",
       " array([0., 0., 0., 0.]),\n",
       " array([ 6.        ,  0.2125268 , 10.        ,  0.23713599]),\n",
       " array([0., 0., 0., 0.]),\n",
       " array([0., 0., 0., 0.]),\n",
       " array([ 6.        ,  0.20813212, 11.        ,  0.23008868]),\n",
       " array([0., 0., 0., 0.]),\n",
       " array([5.        , 0.21504444, 8.        , 0.23940391]),\n",
       " array([0., 0., 0., 0.]),\n",
       " array([ 6.        ,  0.20980301, 10.        ,  0.23439431]),\n",
       " array([0., 0., 0., 0.]),\n",
       " array([5.        , 0.21949725, 8.        , 0.23972468]),\n",
       " array([6.        , 0.21601703, 9.        , 0.23849071]),\n",
       " array([5.        , 0.22560255, 8.        , 0.24324696]),\n",
       " array([ 6.        ,  0.21028959, 10.        ,  0.23772142]),\n",
       " array([ 8.        ,  0.21758105, 10.        ,  0.22001996]),\n",
       " array([6.        , 0.2072063 , 9.        , 0.22889863]),\n",
       " array([0., 0., 0., 0.]),\n",
       " array([0., 0., 0., 0.]),\n",
       " array([0., 0., 0., 0.]),\n",
       " array([0., 0., 0., 0.]),\n",
       " array([ 6.        ,  0.21175614, 10.        ,  0.23804204]),\n",
       " array([0., 0., 0., 0.]),\n",
       " array([0., 0., 0., 0.]),\n",
       " array([0., 0., 0., 0.]),\n",
       " array([0., 0., 0., 0.]),\n",
       " array([0., 0., 0., 0.]),\n",
       " array([ 6.        ,  0.21087783, 10.        ,  0.23531418]),\n",
       " array([0., 0., 0., 0.]),\n",
       " array([0., 0., 0., 0.]),\n",
       " array([5.        , 0.21557231, 8.        , 0.23862152]),\n",
       " array([0., 0., 0., 0.]),\n",
       " array([0., 0., 0., 0.]),\n",
       " array([ 6.        ,  0.21972093, 10.        ,  0.23856658]),\n",
       " array([0., 0., 0., 0.]),\n",
       " array([0., 0., 0., 0.]),\n",
       " array([5.        , 0.22022285, 9.        , 0.24411052]),\n",
       " array([0., 0., 0., 0.]),\n",
       " array([0., 0., 0., 0.]),\n",
       " array([ 6.        ,  0.21678028, 10.        ,  0.23573526]),\n",
       " array([0., 0., 0., 0.]),\n",
       " array([5.        , 0.22515811, 8.        , 0.24077734]),\n",
       " array([0., 0., 0., 0.]),\n",
       " array([ 7.        ,  0.2215176 , 11.        ,  0.22481825]),\n",
       " array([0., 0., 0., 0.]),\n",
       " array([ 7.        ,  0.21748712, 10.        ,  0.22211477]),\n",
       " array([6.        , 0.23782481, 8.        , 0.23923981]),\n",
       " array([ 8.        ,  0.21848464, 10.        ,  0.22179979]),\n",
       " array([ 7.        ,  0.22206773, 10.        ,  0.22903617]),\n",
       " array([6.        , 0.22729753, 8.        , 0.23439616]),\n",
       " array([7.        , 0.21462673, 9.        , 0.22411893]),\n",
       " array([ 7.        ,  0.22242778, 10.        ,  0.23070194]),\n",
       " array([6.        , 0.22164907, 9.        , 0.23583743]),\n",
       " array([ 7.        ,  0.21978315, 10.        ,  0.22679694]),\n",
       " array([ 7.        ,  0.2141057 , 10.        ,  0.22275446]),\n",
       " array([ 6.        ,  0.22007381, 12.        ,  0.2343855 ]),\n",
       " array([ 7.        ,  0.21817291, 10.        ,  0.22469668]),\n",
       " array([ 7.        ,  0.21895241, 10.        ,  0.22662567]),\n",
       " array([ 7.       ,  0.2169887, 10.       ,  0.2231147]),\n",
       " array([6.        , 0.22599168, 8.        , 0.23106965]),\n",
       " array([8.        , 0.22161886, 9.        , 0.22634422]),\n",
       " array([7.        , 0.21905978, 9.        , 0.22555904]),\n",
       " array([ 7.        ,  0.21424272, 10.        ,  0.22229966]),\n",
       " array([6.        , 0.22324314, 8.        , 0.22800544]),\n",
       " array([5.        , 0.23158239, 9.        , 0.24306429]),\n",
       " array([ 7.        ,  0.21526376, 10.        ,  0.22390102]),\n",
       " array([6.        , 0.2219661 , 9.        , 0.23561016]),\n",
       " array([4.        , 0.25048342, 8.        , 0.22268307])]"
      ]
     },
     "execution_count": 137,
     "metadata": {},
     "output_type": "execute_result"
    }
   ],
   "source": [
    "R"
   ]
  },
  {
   "cell_type": "code",
   "execution_count": 138,
   "metadata": {},
   "outputs": [
    {
     "data": {
      "text/plain": [
       "155"
      ]
     },
     "execution_count": 138,
     "metadata": {},
     "output_type": "execute_result"
    }
   ],
   "source": [
    "len(R)"
   ]
  },
  {
   "cell_type": "code",
   "execution_count": 139,
   "metadata": {},
   "outputs": [],
   "source": [
    "np.savetxt(\"./1500to1800.csv\",R,delimiter=\",\")"
   ]
  },
  {
   "cell_type": "code",
   "execution_count": null,
   "metadata": {},
   "outputs": [],
   "source": []
  }
 ],
 "metadata": {
  "kernelspec": {
   "display_name": "Python 3",
   "language": "python",
   "name": "python3"
  },
  "language_info": {
   "codemirror_mode": {
    "name": "ipython",
    "version": 3
   },
   "file_extension": ".py",
   "mimetype": "text/x-python",
   "name": "python",
   "nbconvert_exporter": "python",
   "pygments_lexer": "ipython3",
   "version": "3.6.4"
  }
 },
 "nbformat": 4,
 "nbformat_minor": 2
}
