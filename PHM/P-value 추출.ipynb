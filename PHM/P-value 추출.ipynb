{
 "cells": [
  {
   "cell_type": "code",
   "execution_count": 21,
   "metadata": {},
   "outputs": [],
   "source": [
    "import pickle\n",
    "import seaborn as sns\n",
    "import matplotlib.pyplot as plt\n",
    "from scipy.stats import gaussian_kde\n",
    "sns.set()\n",
    "sns.set_style(\"whitegrid\")"
   ]
  },
  {
   "cell_type": "code",
   "execution_count": 2,
   "metadata": {},
   "outputs": [],
   "source": [
    "with open('FT.pickle','rb') as f:\n",
    "    FT=pickle.load(f)"
   ]
  },
  {
   "cell_type": "code",
   "execution_count": 30,
   "metadata": {},
   "outputs": [],
   "source": [
    "import numpy as np\n",
    "import pandas as pd\n",
    "import scipy.stats as sp\n",
    "import pywt\n",
    "\n",
    "#INPUT\n",
    "Number_of_Data=100\n",
    "Number_of_Sensor=2\n",
    "Number_of_Feature=9\n",
    "wavelet=pywt.Wavelet('sym2')\n",
    "Level=12\n",
    "select=9"
   ]
  },
  {
   "cell_type": "code",
   "execution_count": 31,
   "metadata": {},
   "outputs": [],
   "source": [
    "#P-value 추출\n",
    "b=np.zeros(shape=(Number_of_Sensor*Number_of_Feature*(select+1),2))\n",
    "#size(matrix,n)--> matrix의 n번째 차원의 size를 구하라\n",
    "for i in np.arange(Number_of_Sensor*Number_of_Feature*(select+1)):\n",
    "    a=np.array(sp.ttest_ind(FT[1,i,:],FT[0,i,:],equal_var=False))\n",
    "    #sp.ttest_ind 두개의 독립표본 t test--> 두 집단 사이의 Mean 비교\n",
    "    #고장과 정상에서의 Feature들이 변인이 되는가?\n",
    "    b[i,0]=a[1]\n",
    "    b[i,1]=i\n",
    "b=pd.DataFrame(b)\n",
    "#유효 p value를 가지 Feature를 찾기 위해 번호를 붙이고 DataFrame 형태롤 변형\n",
    "b=np.array(b.sort_values([0],ascending=[True])) #sort_value 함수로 오름차순\n",
    "#pandas 인덱스값 가져올 수 있는 지 확인해보기\n",
    "del i,a"
   ]
  },
  {
   "cell_type": "code",
   "execution_count": 32,
   "metadata": {},
   "outputs": [],
   "source": [
    "#p-value 기반 상위 특징요소 선택하기\n",
    "\n",
    "Rank= 10\n",
    "New_Feature=np.zeros(shape=(2,Rank,np.size(FT,2)))\n",
    "for i in np.arange(Rank):\n",
    "    \n",
    "    New_Feature[:,i,:]=np.array(FT[:,int(b[i,1]),:])\n",
    "\n",
    "del i"
   ]
  },
  {
   "cell_type": "code",
   "execution_count": 33,
   "metadata": {},
   "outputs": [],
   "source": [
    "with open('New_Feature.pickle','wb') as f:\n",
    "    pickle.dump(New_Feature,f,pickle.HIGHEST_PROTOCOL)\n",
    "with open('Select.pickle','wb') as f:\n",
    "    pickle.dump(b,f,pickle.HIGHEST_PROTOCOL)"
   ]
  },
  {
   "cell_type": "code",
   "execution_count": 34,
   "metadata": {},
   "outputs": [
    {
     "data": {
      "image/png": "[encoded data removed]",
      "text/plain": [
       "<matplotlib.figure.Figure at 0x1b995b61eb8>"
      ]
     },
     "metadata": {},
     "output_type": "display_data"
    }
   ],
   "source": [
    "Normal = FT[0,:,:]\n",
    "AbNormal = FT[1,:,:]\n",
    "\n",
    "# N번째 P-value Feature\n",
    "FeatureRank = 10\n",
    "\n",
    "x= Normal[int(b[FeatureRank,1]),:]\n",
    "y= AbNormal[int(b[FeatureRank,1]),:]\n",
    "\n",
    "Feature_Order=b[FeatureRank,1]\n",
    "\n",
    "def Finding(Feature_Order):\n",
    "    a=Feature_Order%Number_of_Feature\n",
    "    Feature={0:'Max',1:'Min',2:'Mean',3:'Var',4:'RMS',5:'Skewness',6:'Kurtosis',7:'b',8:'kurtosis'}.get(a,'deafault')#a값을 대입 후 나머지 deafault\n",
    "    b=(Feature_Order/Number_of_Feature-Feature_Order//Number_of_Feature)>=0.5\n",
    "    Sensor={0:'Sensor1',1:'Sensor2'}.get(b,'default')\n",
    "    c=Feature_Order//(Number_of_Feature*Number_of_Sensor)\n",
    "    Level={0:'Time_Domain',1:'Approximate'}.get(c,'D_%d Wavelet'%c)\n",
    "    return 'Feature=%s, Sensor=%s, %s'%(Feature,Sensor,Level)\n",
    "\n",
    "Name=Finding(Feature_Order)\n",
    "#http://seaborn.pydata.org/generated/seaborn.kdeplot.html 참조\n",
    "fig = plt.figure()\n",
    "ax1 = fig.add_subplot(2,1,1)\n",
    "#k density 그래프 도시\n",
    "sns.kdeplot(x,kernel = 'gau', legend = True)\n",
    "sns.kdeplot(y,kernel = 'gau', legend = True)\n",
    "#ax1.bar([0.05],[1000],width=0.0003,color='r')#bar를 plot\n",
    "plt.title(Name)\n",
    "plt.xlabel('Data')\n",
    "plt.ylabel('Density')\n",
    "plt.legend(['Normal','Abnormal'])\n",
    "plt.show()"
   ]
  },
  {
   "cell_type": "code",
   "execution_count": null,
   "metadata": {},
   "outputs": [],
   "source": []
  },
  {
   "cell_type": "code",
   "execution_count": null,
   "metadata": {},
   "outputs": [],
   "source": []
  }
 ],
 "metadata": {
  "kernelspec": {
   "display_name": "Python 3",
   "language": "python",
   "name": "python3"
  },
  "language_info": {
   "codemirror_mode": {
    "name": "ipython",
    "version": 3
   },
   "file_extension": ".py",
   "mimetype": "text/x-python",
   "name": "python",
   "nbconvert_exporter": "python",
   "pygments_lexer": "ipython3",
   "version": "3.6.4"
  }
 },
 "nbformat": 4,
 "nbformat_minor": 2
}
