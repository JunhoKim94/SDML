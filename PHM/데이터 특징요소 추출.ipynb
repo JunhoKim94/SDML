{
 "cells": [
  {
   "cell_type": "code",
   "execution_count": 21,
   "metadata": {},
   "outputs": [],
   "source": [
    "import numpy as np\n",
    "import pandas as pd\n",
    "import scipy.stats as sp\n",
    "import pywt"
   ]
  },
  {
   "cell_type": "code",
   "execution_count": 22,
   "metadata": {},
   "outputs": [],
   "source": [
    "def rms(y): #rms 함수 정의\n",
    "    return np.sqrt(np.mean(y**2))"
   ]
  },
  {
   "cell_type": "code",
   "execution_count": 23,
   "metadata": {},
   "outputs": [],
   "source": [
    "#INPUT\n",
    "Number_of_Data=100\n",
    "Number_of_Sensor=2\n",
    "Number_of_Feature=9"
   ]
  },
  {
   "cell_type": "code",
   "execution_count": 24,
   "metadata": {},
   "outputs": [],
   "source": [
    "TD_Abnormal = np.zeros(shape=(Number_of_Sensor*Number_of_Feature,Number_of_Data))\n",
    "TD_Normal = np.zeros(shape=(Number_of_Sensor*Number_of_Feature,Number_of_Data))\n",
    "#Time Domain Feature 추출\n",
    "for i in np.arange(1,Number_of_Data+1):\n",
    "    path1 = './Normal/Normal_%d.csv'%i\n",
    "    data = pd.read_csv(path1)\n",
    "    a=np.array(data,dtype=np.float32)\n",
    "    path2 = './Abnormal/Abnormal_%d.csv'%i\n",
    "    data2 = pd.read_csv(path2)\n",
    "    b=np.array(data2,dtype=np.float32)\n",
    "    for j in np.arange(0,Number_of_Sensor):\n",
    "        TD_Normal[Number_of_Feature*j+0,i-1]=np.max(a[:,j])\n",
    "        TD_Normal[Number_of_Feature*j+1,i-1]=np.min(a[:,j])\n",
    "        TD_Normal[Number_of_Feature*j+2,i-1]=np.mean(a[:,j])\n",
    "        TD_Normal[Number_of_Feature*j+3,i-1]=np.var(a[:,j])\n",
    "        TD_Normal[Number_of_Feature*j+4,i-1]=rms(a[:,j])\n",
    "        TD_Normal[Number_of_Feature*j+5,i-1]=sp.skew(a[:,j])\n",
    "        TD_Normal[Number_of_Feature*j+6,i-1]=sp.kurtosis(a[:,j])\n",
    "        TD_Normal[Number_of_Feature*j+7,i-1]=rms(a[:,j])/np.mean(a[:,j])\n",
    "        TD_Normal[Number_of_Feature*j+8,i-1]=np.max(a[:,j])/np.mean(a[:,j])\n",
    "        #Normal[10*j+9,j]=rms(a[:,j])\n",
    "        TD_Abnormal[Number_of_Feature*j+0,i-1]=np.max(b[:,j])\n",
    "        TD_Abnormal[Number_of_Feature*j+1,i-1]=np.min(b[:,j])\n",
    "        TD_Abnormal[Number_of_Feature*j+2,i-1]=np.mean(b[:,j])\n",
    "        TD_Abnormal[Number_of_Feature*j+3,i-1]=np.var(b[:,j])\n",
    "        TD_Abnormal[Number_of_Feature*j+4,i-1]=rms(b[:,j])\n",
    "        TD_Abnormal[Number_of_Feature*j+5,i-1]=sp.skew(b[:,j])\n",
    "        TD_Abnormal[Number_of_Feature*j+6,i-1]=sp.kurtosis(b[:,j])\n",
    "        TD_Abnormal[Number_of_Feature*j+7,i-1]=rms(b[:,j])/np.mean(b[:,j])\n",
    "        TD_Abnormal[Number_of_Feature*j+8,i-1]=np.max(b[:,j])/np.mean(b[:,j])\n",
    "        #Normal[10*j+9,j]=rms(a[:,j])\n",
    "    #np.disp('%d/%d Normal_Data Complete'%(i,Number_of_Data))\n",
    "del a,b,i,j,data,data2,path1,path2\n",
    "\n",
    "#Time Domain 의 Normal 과 Abnormal데이터 취합\n",
    "T = np.array([TD_Normal,TD_Abnormal])"
   ]
  },
  {
   "cell_type": "code",
   "execution_count": 25,
   "metadata": {},
   "outputs": [],
   "source": [
    "#Mother Wavelet 및 level 설정\n",
    "\n",
    "wavelet=pywt.Wavelet('sym2')\n",
    "Level=12\n",
    "select=9"
   ]
  },
  {
   "cell_type": "code",
   "execution_count": 26,
   "metadata": {},
   "outputs": [],
   "source": [
    "FD_Abnormal = np.zeros(shape=(Number_of_Sensor*Number_of_Feature*select,Number_of_Data))\n",
    "FD_Normal = np.zeros(shape=(Number_of_Sensor*Number_of_Feature*select,Number_of_Data))\n",
    "for i in np.arange(1,Number_of_Data+1):\n",
    "    path1 = './Normal/Normal_%d.csv'%i\n",
    "    data = pd.read_csv(path1)\n",
    "    a=np.array(data,dtype=np.float32)\n",
    "    Coef=pywt.wavedec(a,wavelet,level=Level,axis=0)#Wavelet Transform Coefficient\n",
    "    path2 = './Abnormal/Abnormal_%d.csv'%i\n",
    "    data2 = pd.read_csv(path2)\n",
    "    b=np.array(data2,dtype=np.float32)\n",
    "    Coef2=pywt.wavedec(b,wavelet,level=Level,axis=0)#Wavelet Transform Coefficient\n",
    "    for j in np.arange(Number_of_Sensor):\n",
    "        for k in np.arange(select):\n",
    "            coef=Coef[Level-k]\n",
    "            coef2=Coef2[Level-k]\n",
    "            FD_Normal[Number_of_Feature*j*select+k*Number_of_Feature+0,(i-1)]=np.max(coef[:,j])\n",
    "            FD_Normal[Number_of_Feature*j*select+k*Number_of_Feature+1,(i-1)]=np.min(coef[:,j])\n",
    "            FD_Normal[Number_of_Feature*j*select+k*Number_of_Feature+2,(i-1)]=np.mean(coef[:,j])\n",
    "            FD_Normal[Number_of_Feature*j*select+k*Number_of_Feature+3,(i-1)]=np.var(coef[:,j])\n",
    "            FD_Normal[Number_of_Feature*j*select+k*Number_of_Feature+4,(i-1)]=rms(coef[:,j])\n",
    "            FD_Normal[Number_of_Feature*j*select+k*Number_of_Feature+5,(i-1)]=sp.skew(coef[:,j])\n",
    "            FD_Normal[Number_of_Feature*j*select+k*Number_of_Feature+6,(i-1)]=sp.kurtosis(coef[:,j])\n",
    "            FD_Normal[Number_of_Feature*j*select+k*Number_of_Feature+7,(i-1)]=rms(coef[:,j])/np.mean(coef[:,j])\n",
    "            FD_Normal[Number_of_Feature*j*select+k*Number_of_Feature+8,(i-1)]=np.max(coef[:,j])/np.mean(coef[:,j])\n",
    "        \n",
    "            FD_Abnormal[Number_of_Feature*j*select+k*Number_of_Feature+0,(i-1)]=np.max(coef2[:,j])\n",
    "            FD_Abnormal[Number_of_Feature*j*select+k*Number_of_Feature+1,(i-1)]=np.min(coef2[:,j])\n",
    "            FD_Abnormal[Number_of_Feature*j*select+k*Number_of_Feature+2,(i-1)]=np.mean(coef2[:,j])\n",
    "            FD_Abnormal[Number_of_Feature*j*select+k*Number_of_Feature+3,(i-1)]=np.var(coef2[:,j])\n",
    "            FD_Abnormal[Number_of_Feature*j*select+k*Number_of_Feature+4,(i-1)]=rms(coef2[:,j])\n",
    "            FD_Abnormal[Number_of_Feature*j*select+k*Number_of_Feature+5,(i-1)]=sp.skew(coef2[:,j])\n",
    "            FD_Abnormal[Number_of_Feature*j*select+k*Number_of_Feature+6,(i-1)]=sp.kurtosis(coef2[:,j])\n",
    "            FD_Abnormal[Number_of_Feature*j*select+k*Number_of_Feature+7,(i-1)]=rms(coef2[:,j])/np.mean(coef2[:,j])\n",
    "            FD_Abnormal[Number_of_Feature*j*select+k*Number_of_Feature+8,(i-1)]=np.max(coef2[:,j])/np.mean(coef2[:,j])\n",
    "    #print('%d/%d Abnormal_Data Complete'%(i,Number_of_Data))\n",
    "\n",
    "del a,b,i,j,k,data,data2,path1,path2,coef,coef2,Coef,Coef2\n",
    "#Frequency Domain 정상 비정상 데이터 취합\n",
    "F= np.array([FD_Normal,FD_Abnormal])"
   ]
  },
  {
   "cell_type": "code",
   "execution_count": 27,
   "metadata": {},
   "outputs": [],
   "source": [
    "#Time Domain과 Frequency Domain 특성값 합치기\n",
    "FT=np.concatenate((T,F),axis=1)\n",
    "\n",
    "del T,F,FD_Normal,FD_Abnormal,Level"
   ]
  },
  {
   "cell_type": "code",
   "execution_count": 28,
   "metadata": {},
   "outputs": [],
   "source": [
    "#데이터 저장 불러오기\n",
    "import pickle\n",
    "with open('FT.pickle','wb') as f:\n",
    "    pickle.dump(FT,f,pickle.HIGHEST_PROTOCOL)"
   ]
  },
  {
   "cell_type": "code",
   "execution_count": null,
   "metadata": {},
   "outputs": [],
   "source": []
  }
 ],
 "metadata": {
  "kernelspec": {
   "display_name": "Python 3",
   "language": "python",
   "name": "python3"
  },
  "language_info": {
   "codemirror_mode": {
    "name": "ipython",
    "version": 3
   },
   "file_extension": ".py",
   "mimetype": "text/x-python",
   "name": "python",
   "nbconvert_exporter": "python",
   "pygments_lexer": "ipython3",
   "version": "3.6.4"
  }
 },
 "nbformat": 4,
 "nbformat_minor": 2
}
