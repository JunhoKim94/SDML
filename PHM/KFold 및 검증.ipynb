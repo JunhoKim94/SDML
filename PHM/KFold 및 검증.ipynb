{
 "cells": [
  {
   "cell_type": "code",
   "execution_count": 3,
   "metadata": {},
   "outputs": [],
   "source": [
    "import numpy as np\n",
    "import pandas as pd\n",
    "import pickle\n",
    "from neupy import algorithms\n",
    "from sklearn import svm,metrics\n",
    "from sklearn.neighbors import KNeighborsClassifier"
   ]
  },
  {
   "cell_type": "code",
   "execution_count": 4,
   "metadata": {},
   "outputs": [],
   "source": [
    "with open('FT.pickle','rb') as f:\n",
    "    FT=pickle.load(f)\n",
    "with open('New_Feature.pickle','rb') as f:\n",
    "    New_Feature=pickle.load(f)\n",
    "Level=12\n",
    "select=9"
   ]
  },
  {
   "cell_type": "code",
   "execution_count": 48,
   "metadata": {},
   "outputs": [],
   "source": [
    "#k-Fold\n",
    "\n",
    "Fold=5\n",
    "Fold_Data=int(np.size(FT,2)/Fold)\n",
    "#import sys\n",
    "#mod = sys.modules[__name__]\n",
    "#Validation=np.zeros(shape=(2,Rank,Number_of_Data,Fold))\n",
    "for i in np.arange(Fold):\n",
    "    for j in np.arange(Fold):\n",
    "        if i==j:\n",
    "            a=New_Feature[:,:,Fold_Data*j:Fold_Data*(j+1)]\n",
    "            c = 'Validation_%d = a'%i\n",
    "            exec(c)\n",
    "            \n",
    "            #setattr(mod,'Validation_{}'.format(i),New_Feature[:,:,Fold_Data*j:Fold_Data*(j+1)])\n",
    "        else :\n",
    "            b = New_Feature[:,:,:Fold_Data*(j)]\n",
    "            b_1 = New_Feature[:,:,Fold_Data*(j+1):]\n",
    "            d ='Training_%d = np.concatenate((b_1,b),axis=2)'%i\n",
    "            exec(d)\n",
    "del i,j,a,b,b_1,c,d"
   ]
  },
  {
   "cell_type": "code",
   "execution_count": 49,
   "metadata": {},
   "outputs": [],
   "source": [
    "####setting Target&Validation\n",
    "Target = np.zeros(shape=(2*Fold_Data*(Fold-1)))\n",
    "Target[:Fold_Data*(Fold-1)]=1\n",
    "Validation_Label=np.zeros(shape=(np.size(Validation_0)//np.size(Validation_0[0,:,0])))\n",
    "Validation_Label[:Fold_Data]=1"
   ]
  },
  {
   "cell_type": "code",
   "execution_count": 54,
   "metadata": {},
   "outputs": [
    {
     "name": "stdout",
     "output_type": "stream",
     "text": [
      "1.0\n",
      "1.0\n",
      "1.0\n",
      "1.0\n",
      "1.0\n"
     ]
    }
   ],
   "source": [
    "#KNN 검증\n",
    "for i in np.arange(Fold):\n",
    "    a='T=np.concatenate((Training_%d[0,:,:],Training_%d[1,:,:]),axis=1)'%(i,i)\n",
    "    exec(a)\n",
    "    T=np.transpose(T)\n",
    "    b='val = np.concatenate((Validation_%d[0,:,:],Validation_%d[1,:,:]),axis=1)'%(i,i)\n",
    "    exec(b)\n",
    "    val = np.transpose(val)\n",
    "    knn = KNeighborsClassifier()\n",
    "    knn.fit(T,Target)\n",
    "    Predicted=np.array(knn.predict(val))\n",
    "    c='knnscore_%d=metrics.accuracy_score(Validation_Label,Predicted)'%i\n",
    "    exec(c)\n",
    "    print(eval('knnscore_%d'%i))"
   ]
  },
  {
   "cell_type": "code",
   "execution_count": 57,
   "metadata": {},
   "outputs": [
    {
     "name": "stdout",
     "output_type": "stream",
     "text": [
      "1.0\n",
      "1.0\n",
      "1.0\n",
      "1.0\n",
      "1.0\n"
     ]
    },
    {
     "name": "stderr",
     "output_type": "stream",
     "text": [
      "\r",
      "                                                                               \r",
      "\r",
      "                                                                               \r",
      "\r",
      "                                                                               \r",
      "\r",
      "                                                                               \r",
      "\r",
      "                                                                               \r"
     ]
    }
   ],
   "source": [
    "#PNN 검증\n",
    "for i in np.arange(Fold):\n",
    "    a='T=np.concatenate((Training_%d[0,:,:],Training_%d[1,:,:]),axis=1)'%(i,i)\n",
    "    exec(a)\n",
    "    T=np.transpose(T)\n",
    "    b='val = np.concatenate((Validation_%d[0,:,:],Validation_%d[1,:,:]),axis=1)'%(i,i)\n",
    "    exec(b)\n",
    "    val = np.transpose(val)\n",
    "    pnn = algorithms.PNN(std=10,verbose=False)\n",
    "    #std: 입력값이 높으면 높은값 대입\n",
    "    pnn.train(T,Target)\n",
    "    Predicted=np.array(pnn.predict(val))\n",
    "    c='pnnscore_%d=np.sum(Validation_Label==Predicted)/np.size(Validation_%d[:,0])'%(i,i)\n",
    "    exec(c)\n",
    "    print(eval('knnscore_%d'%i))"
   ]
  },
  {
   "cell_type": "code",
   "execution_count": 56,
   "metadata": {},
   "outputs": [
    {
     "name": "stdout",
     "output_type": "stream",
     "text": [
      "1.0\n",
      "1.0\n",
      "1.0\n",
      "1.0\n",
      "1.0\n"
     ]
    }
   ],
   "source": [
    "for i in np.arange(Fold):\n",
    "    a='T=np.concatenate((Training_%d[0,:,:],Training_%d[1,:,:]),axis=1)'%(i,i)\n",
    "    exec(a)\n",
    "    T=np.transpose(T)\n",
    "    b='val = np.concatenate((Validation_%d[0,:,:],Validation_%d[1,:,:]),axis=1)'%(i,i)\n",
    "    exec(b)\n",
    "    val = np.transpose(val)\n",
    "    clf = svm.SVC()\n",
    "    clf.fit(T,Target)\n",
    "    Predicted=np.array(clf.predict(val))\n",
    "    c='svmscore_%d=metrics.accuracy_score(Validation_Label,Predicted)'%i\n",
    "    exec(c)\n",
    "    print(eval('svmscore_%d'%i))"
   ]
  },
  {
   "cell_type": "code",
   "execution_count": null,
   "metadata": {},
   "outputs": [],
   "source": []
  }
 ],
 "metadata": {
  "kernelspec": {
   "display_name": "Python 3",
   "language": "python",
   "name": "python3"
  },
  "language_info": {
   "codemirror_mode": {
    "name": "ipython",
    "version": 3
   },
   "file_extension": ".py",
   "mimetype": "text/x-python",
   "name": "python",
   "nbconvert_exporter": "python",
   "pygments_lexer": "ipython3",
   "version": "3.6.4"
  }
 },
 "nbformat": 4,
 "nbformat_minor": 2
}
