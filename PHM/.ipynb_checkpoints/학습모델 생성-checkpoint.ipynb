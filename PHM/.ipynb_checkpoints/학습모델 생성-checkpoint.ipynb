{
 "cells": [
  {
   "cell_type": "code",
   "execution_count": 6,
   "metadata": {},
   "outputs": [],
   "source": [
    "import pickle #학습모델을 저장하기 위함\n",
    "from sklearn.externals import joblib\n",
    "import numpy as np\n",
    "import pandas as pd\n",
    "import scipy.stats as sp\n",
    "import pywt\n",
    "from neupy import algorithms\n",
    "from sklearn import svm,metrics\n",
    "from sklearn.neighbors import KNeighborsClassifier"
   ]
  },
  {
   "cell_type": "code",
   "execution_count": 7,
   "metadata": {},
   "outputs": [],
   "source": [
    "with open('FT.pickle','rb') as f:\n",
    "    FT=pickle.load(f)\n",
    "with open('New_Feature.pickle','rb') as f:\n",
    "    New_Feature=pickle.load(f)"
   ]
  },
  {
   "cell_type": "code",
   "execution_count": 8,
   "metadata": {},
   "outputs": [],
   "source": [
    "#Target, Train 벡터 생성\n",
    "Total_target = np.zeros(shape=(np.size(New_Feature[:,0,:])))\n",
    "Total_target[:np.size(New_Feature[0,0,:])] = 1 \n",
    "Train = np.concatenate((New_Feature[0,:,:],New_Feature[1,:,:]),axis=1)\n",
    "Train = np.transpose(Train)\n",
    "#print(np.size(Train[:,0]))\n",
    "#print(Train)"
   ]
  },
  {
   "cell_type": "code",
   "execution_count": 9,
   "metadata": {},
   "outputs": [],
   "source": [
    "#PNN 모델 생성 및 저장\n",
    "pnn = algorithms.PNN(std=10,verbose=False)\n",
    "pnn.train(Train,Total_target)\n",
    "with open('PNN_Model.pickle','wb') as f:\n",
    "    pickle.dump(pnn,f,pickle.HIGHEST_PROTOCOL)"
   ]
  },
  {
   "cell_type": "code",
   "execution_count": 10,
   "metadata": {},
   "outputs": [],
   "source": [
    "#KNN 모델 생성 및 저장\n",
    "knn = KNeighborsClassifier()\n",
    "knn.fit(Train,Total_target)\n",
    "with open('KNN_Model.pickle','wb') as f:\n",
    "    pickle.dump(knn,f,pickle.HIGHEST_PROTOCOL)"
   ]
  },
  {
   "cell_type": "code",
   "execution_count": 11,
   "metadata": {},
   "outputs": [],
   "source": [
    "#SVM 모델 생성 및 저장\n",
    "clf = svm.SVC()\n",
    "clf.fit(Train,Total_target)\n",
    "with open('SVM_Model.pickle','wb') as f:\n",
    "    pickle.dump(clf,f,pickle.HIGHEST_PROTOCOL)"
   ]
  },
  {
   "cell_type": "code",
   "execution_count": null,
   "metadata": {},
   "outputs": [],
   "source": []
  }
 ],
 "metadata": {
  "kernelspec": {
   "display_name": "Python 3",
   "language": "python",
   "name": "python3"
  },
  "language_info": {
   "codemirror_mode": {
    "name": "ipython",
    "version": 3
   },
   "file_extension": ".py",
   "mimetype": "text/x-python",
   "name": "python",
   "nbconvert_exporter": "python",
   "pygments_lexer": "ipython3",
   "version": "3.6.4"
  }
 },
 "nbformat": 4,
 "nbformat_minor": 2
}
